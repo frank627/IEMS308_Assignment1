{
 "cells": [
  {
   "cell_type": "code",
   "execution_count": 1,
   "metadata": {},
   "outputs": [],
   "source": [
    "import numpy as np \n",
    "import pandas as pd \n",
    "pd.set_option('display.float_format', lambda x: '%.3f' % x)\n",
    "import csv\n",
    "import copy \n",
    "\n",
    "from sklearn.cluster import KMeans\n",
    "from sklearn.preprocessing import StandardScaler\n",
    "from sklearn.metrics import silhouette_score\n",
    "from scipy.stats import boxcox\n",
    "\n",
    "import matplotlib.pyplot as plt\n",
    "%matplotlib inline\n",
    "import seaborn as sns"
   ]
  },
  {
   "cell_type": "markdown",
   "metadata": {},
   "source": [
    "# Data Preparation & Preprocessing"
   ]
  },
  {
   "cell_type": "markdown",
   "metadata": {},
   "source": [
    "### <u> (0) Converting data (from txt to CSV)</u>\n",
    "Because it takes long, I do not recommend running this snippet. <br>\n",
    "converted.csv, which is the output from the following snippet, is already in data folder. "
   ]
  },
  {
   "cell_type": "code",
   "execution_count": null,
   "metadata": {},
   "outputs": [],
   "source": [
    "with open('data/Medicare_Provider_Util_Payment_PUF_CY2017/Medicare_Provider_Util_Payment_PUF_CY2017.txt', newline = '') as source_csv:                                                                                          \n",
    "    csv_reader = csv.reader(source_csv, delimiter='\\t')\n",
    "    with open(\"data/converted.csv\", 'a') as out_csv:  # converted data will be saved as \"data.csv\"\n",
    "        csv_writer = csv.writer(out_csv, delimiter=',', quoting=csv.QUOTE_MINIMAL, lineterminator='\\n')\n",
    "        for each_line in csv_reader:\n",
    "            csv_writer.writerow(each_line)"
   ]
  },
  {
   "cell_type": "markdown",
   "metadata": {},
   "source": [
    "### <u> (1) Filtering data by country and entity_code</u>\n",
    "I limited the analysis to individual service providers in U.S. This prevents unintentional external factors from affecting the analysis."
   ]
  },
  {
   "cell_type": "code",
   "execution_count": 2,
   "metadata": {},
   "outputs": [
    {
     "name": "stderr",
     "output_type": "stream",
     "text": [
      "/Users/junhwalee/opt/anaconda3/lib/python3.7/site-packages/IPython/core/interactiveshell.py:3058: DtypeWarning: Columns (10) have mixed types. Specify dtype option on import or set low_memory=False.\n",
      "  interactivity=interactivity, compiler=compiler, result=result)\n"
     ]
    },
    {
     "data": {
      "text/plain": [
       "(9847444, 26)"
      ]
     },
     "execution_count": 2,
     "metadata": {},
     "output_type": "execute_result"
    }
   ],
   "source": [
    "data = pd.read_csv(\"data/converted.csv\")\n",
    "data.shape # Original data has 9,847,443 samples with 26 columns/ The first row is excluded because it is irrelevant"
   ]
  },
  {
   "cell_type": "code",
   "execution_count": 3,
   "metadata": {},
   "outputs": [
    {
     "data": {
      "text/html": [
       "<div>\n",
       "<style scoped>\n",
       "    .dataframe tbody tr th:only-of-type {\n",
       "        vertical-align: middle;\n",
       "    }\n",
       "\n",
       "    .dataframe tbody tr th {\n",
       "        vertical-align: top;\n",
       "    }\n",
       "\n",
       "    .dataframe thead th {\n",
       "        text-align: right;\n",
       "    }\n",
       "</style>\n",
       "<table border=\"1\" class=\"dataframe\">\n",
       "  <thead>\n",
       "    <tr style=\"text-align: right;\">\n",
       "      <th></th>\n",
       "      <th>npi</th>\n",
       "      <th>nppes_provider_last_org_name</th>\n",
       "      <th>nppes_provider_first_name</th>\n",
       "      <th>nppes_provider_mi</th>\n",
       "      <th>nppes_credentials</th>\n",
       "      <th>nppes_provider_gender</th>\n",
       "      <th>nppes_entity_code</th>\n",
       "      <th>nppes_provider_street1</th>\n",
       "      <th>nppes_provider_street2</th>\n",
       "      <th>nppes_provider_city</th>\n",
       "      <th>...</th>\n",
       "      <th>hcpcs_code</th>\n",
       "      <th>hcpcs_description</th>\n",
       "      <th>hcpcs_drug_indicator</th>\n",
       "      <th>line_srvc_cnt</th>\n",
       "      <th>bene_unique_cnt</th>\n",
       "      <th>bene_day_srvc_cnt</th>\n",
       "      <th>average_Medicare_allowed_amt</th>\n",
       "      <th>average_submitted_chrg_amt</th>\n",
       "      <th>average_Medicare_payment_amt</th>\n",
       "      <th>average_Medicare_standard_amt</th>\n",
       "    </tr>\n",
       "  </thead>\n",
       "  <tbody>\n",
       "    <tr>\n",
       "      <td>0</td>\n",
       "      <td>1</td>\n",
       "      <td>CPT copyright 2016 American Medical Associatio...</td>\n",
       "      <td>NaN</td>\n",
       "      <td>NaN</td>\n",
       "      <td>NaN</td>\n",
       "      <td>NaN</td>\n",
       "      <td>NaN</td>\n",
       "      <td>NaN</td>\n",
       "      <td>NaN</td>\n",
       "      <td>NaN</td>\n",
       "      <td>...</td>\n",
       "      <td>NaN</td>\n",
       "      <td>NaN</td>\n",
       "      <td>NaN</td>\n",
       "      <td>nan</td>\n",
       "      <td>nan</td>\n",
       "      <td>nan</td>\n",
       "      <td>nan</td>\n",
       "      <td>nan</td>\n",
       "      <td>nan</td>\n",
       "      <td>nan</td>\n",
       "    </tr>\n",
       "    <tr>\n",
       "      <td>1</td>\n",
       "      <td>1003000126</td>\n",
       "      <td>ENKESHAFI</td>\n",
       "      <td>ARDALAN</td>\n",
       "      <td>NaN</td>\n",
       "      <td>M.D.</td>\n",
       "      <td>M</td>\n",
       "      <td>I</td>\n",
       "      <td>900 SETON DR</td>\n",
       "      <td>NaN</td>\n",
       "      <td>CUMBERLAND</td>\n",
       "      <td>...</td>\n",
       "      <td>99217</td>\n",
       "      <td>Hospital observation care discharge</td>\n",
       "      <td>N</td>\n",
       "      <td>100.000</td>\n",
       "      <td>96.000</td>\n",
       "      <td>100.000</td>\n",
       "      <td>73.399</td>\n",
       "      <td>325.780</td>\n",
       "      <td>56.827</td>\n",
       "      <td>57.492</td>\n",
       "    </tr>\n",
       "    <tr>\n",
       "      <td>2</td>\n",
       "      <td>1003000126</td>\n",
       "      <td>ENKESHAFI</td>\n",
       "      <td>ARDALAN</td>\n",
       "      <td>NaN</td>\n",
       "      <td>M.D.</td>\n",
       "      <td>M</td>\n",
       "      <td>I</td>\n",
       "      <td>900 SETON DR</td>\n",
       "      <td>NaN</td>\n",
       "      <td>CUMBERLAND</td>\n",
       "      <td>...</td>\n",
       "      <td>99218</td>\n",
       "      <td>Hospital observation care typically 30 minutes</td>\n",
       "      <td>N</td>\n",
       "      <td>26.000</td>\n",
       "      <td>25.000</td>\n",
       "      <td>26.000</td>\n",
       "      <td>100.080</td>\n",
       "      <td>449.000</td>\n",
       "      <td>78.460</td>\n",
       "      <td>79.306</td>\n",
       "    </tr>\n",
       "    <tr>\n",
       "      <td>3</td>\n",
       "      <td>1003000126</td>\n",
       "      <td>ENKESHAFI</td>\n",
       "      <td>ARDALAN</td>\n",
       "      <td>NaN</td>\n",
       "      <td>M.D.</td>\n",
       "      <td>M</td>\n",
       "      <td>I</td>\n",
       "      <td>900 SETON DR</td>\n",
       "      <td>NaN</td>\n",
       "      <td>CUMBERLAND</td>\n",
       "      <td>...</td>\n",
       "      <td>99219</td>\n",
       "      <td>Hospital observation care typically 50 minutes</td>\n",
       "      <td>N</td>\n",
       "      <td>52.000</td>\n",
       "      <td>51.000</td>\n",
       "      <td>52.000</td>\n",
       "      <td>136.380</td>\n",
       "      <td>614.000</td>\n",
       "      <td>102.808</td>\n",
       "      <td>103.895</td>\n",
       "    </tr>\n",
       "    <tr>\n",
       "      <td>4</td>\n",
       "      <td>1003000126</td>\n",
       "      <td>ENKESHAFI</td>\n",
       "      <td>ARDALAN</td>\n",
       "      <td>NaN</td>\n",
       "      <td>M.D.</td>\n",
       "      <td>M</td>\n",
       "      <td>I</td>\n",
       "      <td>900 SETON DR</td>\n",
       "      <td>NaN</td>\n",
       "      <td>CUMBERLAND</td>\n",
       "      <td>...</td>\n",
       "      <td>99220</td>\n",
       "      <td>Hospital observation care typically 70 minutes...</td>\n",
       "      <td>N</td>\n",
       "      <td>59.000</td>\n",
       "      <td>59.000</td>\n",
       "      <td>59.000</td>\n",
       "      <td>190.364</td>\n",
       "      <td>755.932</td>\n",
       "      <td>141.294</td>\n",
       "      <td>142.866</td>\n",
       "    </tr>\n",
       "  </tbody>\n",
       "</table>\n",
       "<p>5 rows × 26 columns</p>\n",
       "</div>"
      ],
      "text/plain": [
       "          npi                       nppes_provider_last_org_name  \\\n",
       "0           1  CPT copyright 2016 American Medical Associatio...   \n",
       "1  1003000126                                          ENKESHAFI   \n",
       "2  1003000126                                          ENKESHAFI   \n",
       "3  1003000126                                          ENKESHAFI   \n",
       "4  1003000126                                          ENKESHAFI   \n",
       "\n",
       "  nppes_provider_first_name nppes_provider_mi nppes_credentials  \\\n",
       "0                       NaN               NaN               NaN   \n",
       "1                   ARDALAN               NaN              M.D.   \n",
       "2                   ARDALAN               NaN              M.D.   \n",
       "3                   ARDALAN               NaN              M.D.   \n",
       "4                   ARDALAN               NaN              M.D.   \n",
       "\n",
       "  nppes_provider_gender nppes_entity_code nppes_provider_street1  \\\n",
       "0                   NaN               NaN                    NaN   \n",
       "1                     M                 I           900 SETON DR   \n",
       "2                     M                 I           900 SETON DR   \n",
       "3                     M                 I           900 SETON DR   \n",
       "4                     M                 I           900 SETON DR   \n",
       "\n",
       "  nppes_provider_street2 nppes_provider_city  ... hcpcs_code  \\\n",
       "0                    NaN                 NaN  ...        NaN   \n",
       "1                    NaN          CUMBERLAND  ...      99217   \n",
       "2                    NaN          CUMBERLAND  ...      99218   \n",
       "3                    NaN          CUMBERLAND  ...      99219   \n",
       "4                    NaN          CUMBERLAND  ...      99220   \n",
       "\n",
       "                                   hcpcs_description hcpcs_drug_indicator  \\\n",
       "0                                                NaN                  NaN   \n",
       "1                Hospital observation care discharge                    N   \n",
       "2     Hospital observation care typically 30 minutes                    N   \n",
       "3     Hospital observation care typically 50 minutes                    N   \n",
       "4  Hospital observation care typically 70 minutes...                    N   \n",
       "\n",
       "  line_srvc_cnt bene_unique_cnt bene_day_srvc_cnt  \\\n",
       "0           nan             nan               nan   \n",
       "1       100.000          96.000           100.000   \n",
       "2        26.000          25.000            26.000   \n",
       "3        52.000          51.000            52.000   \n",
       "4        59.000          59.000            59.000   \n",
       "\n",
       "  average_Medicare_allowed_amt average_submitted_chrg_amt  \\\n",
       "0                          nan                        nan   \n",
       "1                       73.399                    325.780   \n",
       "2                      100.080                    449.000   \n",
       "3                      136.380                    614.000   \n",
       "4                      190.364                    755.932   \n",
       "\n",
       "  average_Medicare_payment_amt  average_Medicare_standard_amt  \n",
       "0                          nan                            nan  \n",
       "1                       56.827                         57.492  \n",
       "2                       78.460                         79.306  \n",
       "3                      102.808                        103.895  \n",
       "4                      141.294                        142.866  \n",
       "\n",
       "[5 rows x 26 columns]"
      ]
     },
     "execution_count": 3,
     "metadata": {},
     "output_type": "execute_result"
    }
   ],
   "source": [
    "data.head() "
   ]
  },
  {
   "cell_type": "code",
   "execution_count": 4,
   "metadata": {},
   "outputs": [],
   "source": [
    "# Filtering only individual service provider\n",
    "data = data[data[\"nppes_entity_code\"] == \"I\"]\n",
    "# Filtering only service provider in the United States\n",
    "data = data[data[\"nppes_provider_country\"] == \"US\"]\n",
    "# Dropping duplicates if there are duplicates\n",
    "data = data.drop_duplicates(subset=None, keep=\"first\", inplace=False).reset_index(drop=True)"
   ]
  },
  {
   "cell_type": "code",
   "execution_count": 5,
   "metadata": {},
   "outputs": [
    {
     "data": {
      "text/plain": [
       "(9415529, 26)"
      ]
     },
     "execution_count": 5,
     "metadata": {},
     "output_type": "execute_result"
    }
   ],
   "source": [
    "data.shape # Applying two filters above ended up with 9,415,529 samples with 26 columns"
   ]
  },
  {
   "cell_type": "markdown",
   "metadata": {},
   "source": [
    "Then I classified categorical columns & numerical columns.\n",
    "After that, each column is converted to appropriate data type for further preprocessing."
   ]
  },
  {
   "cell_type": "code",
   "execution_count": 6,
   "metadata": {},
   "outputs": [],
   "source": [
    "categorical = ['npi', 'nppes_provider_last_org_name', 'nppes_provider_first_name',\n",
    "       'nppes_provider_mi', 'nppes_credentials', 'nppes_provider_gender',\n",
    "       'nppes_entity_code', 'nppes_provider_street1', 'nppes_provider_street2',\n",
    "       'nppes_provider_city', 'nppes_provider_state', 'nppes_provider_zip',\n",
    "       'nppes_provider_country', 'provider_type',\n",
    "       'medicare_participation_indicator', 'place_of_service', 'hcpcs_code',\n",
    "       'hcpcs_description', 'hcpcs_drug_indicator']\n",
    "for cat_column in categorical:\n",
    "    data[cat_column] = data[cat_column].astype(\"str\")\n",
    "    \n",
    "numerical = ['line_srvc_cnt','bene_unique_cnt', 'bene_day_srvc_cnt',\n",
    "             'average_Medicare_allowed_amt', 'average_submitted_chrg_amt', \n",
    "             'average_Medicare_payment_amt', 'average_Medicare_standard_amt']\n",
    "for num_column in numerical: \n",
    "    data[num_column] = data[num_column].astype('float')"
   ]
  },
  {
   "cell_type": "markdown",
   "metadata": {},
   "source": [
    "### <u> (2) Creating three new columns</u>"
   ]
  },
  {
   "cell_type": "markdown",
   "metadata": {},
   "source": [
    "I created two new columns for further usage. <br> \n",
    "\n",
    "<b> medicare_perc </b> <br>\n",
    "Proportion that (Medicare paid after deductible and coinsurance amounts have been deducted) out of (total charges that the provider submitted for the service). That is, it represents the proportion of Medicare actually covered out of total charges. By nature, it should be in between 0 and 1 because average_Medicare_payment_amt <= average_submitted_chrg_amt. "
   ]
  },
  {
   "cell_type": "code",
   "execution_count": 7,
   "metadata": {},
   "outputs": [],
   "source": [
    "data[\"medicare_perc\"] = data[\"average_Medicare_standard_amt\"]/data[\"average_submitted_chrg_amt\"]\n",
    "numerical.append(\"medicare_perc\")"
   ]
  },
  {
   "cell_type": "markdown",
   "metadata": {},
   "source": [
    "<b> medicare_perc_allowed </b> <br>\n",
    "Proportion that (Medicare paid after deductible and coinsurance amounts have been deducted) out of (the amount that Medicare is allowed for the service). That is, it represents the proportion of Medicare actually covered out of max amount. By nature, it should be in between 0 and 1 because average_Medicare_standard_amt <= average_Medicare_allowed_amt."
   ]
  },
  {
   "cell_type": "code",
   "execution_count": 8,
   "metadata": {},
   "outputs": [],
   "source": [
    "data[\"medicare_perc_allowed\"] = data[\"average_Medicare_standard_amt\"]/data[\"average_Medicare_allowed_amt\"]\n",
    "numerical.append(\"medicare_perc_allowed\")"
   ]
  },
  {
   "cell_type": "markdown",
   "metadata": {},
   "source": [
    "<b> diff_submitted_minus_Medicare_paid </b> <br>\n",
    "Difference between (Medicare paid after deductible and coinsurance amounts have been deducted) and (total charges that the provider submitted for the service). That is, it represents the amount that was not convered by Medicare. By nature, it should be greater than or equal to 0 because average_Medicare_payment_amt <= average_submitted_chrg_amt."
   ]
  },
  {
   "cell_type": "code",
   "execution_count": 9,
   "metadata": {},
   "outputs": [],
   "source": [
    "# data[\"diff_submitted_minus_Medicare_paid\"] = data[\"average_submitted_chrg_amt\"] - data[\"average_Medicare_payment_amt\"]\n",
    "# numerical.append(\"diff_submitted_minus_Medicare_paid\")\n",
    "# data = data[data[\"diff_submitted_minus_Medicare_paid\"] >= 0]"
   ]
  },
  {
   "cell_type": "markdown",
   "metadata": {},
   "source": [
    "### <u> (3) Aggregating by npi</u>\n",
    "For each npi, I chose the sample that had the least coverage from Medicare (lowest medicare_perc). This is the decision to have one row for each unique npi and ultimately find service providers that are outliers. "
   ]
  },
  {
   "cell_type": "code",
   "execution_count": null,
   "metadata": {},
   "outputs": [],
   "source": [
    "data = data.loc[data.groupby([\"npi\"])[\"medicare_perc\"].idxmin()]  \n",
    "data.shape"
   ]
  },
  {
   "cell_type": "markdown",
   "metadata": {},
   "source": [
    "### <u> (4) Filtering data by state</u>\n",
    "To remove the effect of being in different states on my analysis, I decided to choose one state that I would work with. Based on the assumption that higher variablility in \"medicare_perc\" means the higher likelihood of the existence of outliers, I chose \"WI.\" "
   ]
  },
  {
   "cell_type": "code",
   "execution_count": null,
   "metadata": {},
   "outputs": [],
   "source": [
    "grouping = \"nppes_provider_state\"\n",
    "grouped_by_state = pd.DataFrame()\n",
    "grouped_by_state[\"mean\"] = data.groupby(grouping)[\"medicare_perc\"].mean()\n",
    "grouped_by_state[\"std\"] = data.groupby(grouping)[\"medicare_perc\"].std()\n",
    "grouped_by_state[\"count\"] = data.groupby(grouping)[\"medicare_perc\"].count()\n",
    "grouped_by_state[\"std/mean\"] = summary[\"std\"]/summary[\"mean\"]\n",
    "grouped_by_state.sort_values(\"std/mean\", ascending = False).head(10)"
   ]
  },
  {
   "cell_type": "code",
   "execution_count": null,
   "metadata": {},
   "outputs": [],
   "source": [
    "data = data[data[\"nppes_provider_state\"] == \"WI\"].reset_index(drop = True)\n",
    "data.shape # ended up with 20,955 rows and 28 columns "
   ]
  },
  {
   "cell_type": "code",
   "execution_count": null,
   "metadata": {},
   "outputs": [],
   "source": [
    "data.to_csv(\"data/filtered.csv\", index = False) # filtered data with additional column is saved as \"filtered.csv\""
   ]
  },
  {
   "cell_type": "markdown",
   "metadata": {},
   "source": [
    "# Exploratory Data Analysis (EDA)"
   ]
  },
  {
   "cell_type": "markdown",
   "metadata": {},
   "source": [
    "### <u> (1) Checking unique values of each column</u>"
   ]
  },
  {
   "cell_type": "code",
   "execution_count": null,
   "metadata": {},
   "outputs": [],
   "source": [
    "data = pd.read_csv(\"data/filtered.csv\")\n",
    "data[numerical].describe()"
   ]
  },
  {
   "cell_type": "code",
   "execution_count": null,
   "metadata": {},
   "outputs": [],
   "source": [
    "data.nunique()"
   ]
  },
  {
   "cell_type": "markdown",
   "metadata": {},
   "source": [
    "There are 3,931 zip codes. However, that number is way higher than 709 zip codes that Wisconsin has.  "
   ]
  },
  {
   "cell_type": "code",
   "execution_count": null,
   "metadata": {},
   "outputs": [],
   "source": [
    "data[\"nppes_provider_zip\"].head(10) # The problem is that there are extra numbers following the first 5 digit letters. "
   ]
  },
  {
   "cell_type": "code",
   "execution_count": null,
   "metadata": {},
   "outputs": [],
   "source": [
    "data[\"nppes_provider_zip\"] = data[\"nppes_provider_zip\"].astype(\"str\").str[:5] # subsetting first 5 digits\n",
    "data[\"nppes_provider_zip\"].nunique() # There are now 462 zip codes, which is more reasonable"
   ]
  },
  {
   "cell_type": "markdown",
   "metadata": {},
   "source": [
    "### <u> (2) Checking distribution of each numerical column with box-and-whisker plot </u>"
   ]
  },
  {
   "cell_type": "code",
   "execution_count": null,
   "metadata": {},
   "outputs": [],
   "source": [
    "plt.rcParams['figure.figsize'] = [20, 12]\n",
    "for pos, val in enumerate(numerical): \n",
    "    plt.subplot(3, 3, pos+1)\n",
    "    data[numerical].boxplot(column = val)\n",
    "    plt.title(val)\n",
    "plt.savefig('img/box_and_whisker.png')\n",
    "plt.show()"
   ]
  },
  {
   "cell_type": "code",
   "execution_count": null,
   "metadata": {},
   "outputs": [],
   "source": [
    "# plt.rcParams['figure.figsize'] = [20, 12]\n",
    "# for pos, val in enumerate(numerical): \n",
    "#     plt.subplot(3, 4, pos+1)\n",
    "#     data[numerical].boxplot(column = val)\n",
    "#     plt.title(val)\n",
    "# plt.show()"
   ]
  },
  {
   "cell_type": "markdown",
   "metadata": {},
   "source": [
    "### <u> (3) Checking correlation between numerical columns </u>"
   ]
  },
  {
   "cell_type": "code",
   "execution_count": null,
   "metadata": {},
   "outputs": [],
   "source": [
    "correlations = data[numerical].corr(method ='pearson')\n",
    "correlations"
   ]
  },
  {
   "cell_type": "code",
   "execution_count": null,
   "metadata": {},
   "outputs": [],
   "source": [
    "# plot correlation matrix\n",
    "f, ax = plt.subplots(figsize=(12, 6))\n",
    "heatmap = sns.heatmap(correlations, mask=np.zeros_like(correlations, dtype=np.bool),\n",
    "            cmap=\"YlGnBu\",\n",
    "            square=True, ax=ax)\n",
    "f.savefig(\"img/heatmap_pearson.png\", bbox_inches=\"tight\")"
   ]
  },
  {
   "cell_type": "code",
   "execution_count": null,
   "metadata": {},
   "outputs": [],
   "source": [
    "data[numerical].corr(method ='spearman')"
   ]
  },
  {
   "cell_type": "markdown",
   "metadata": {},
   "source": [
    "### <u> (4) Transfomring each numerical column</u>"
   ]
  },
  {
   "cell_type": "code",
   "execution_count": null,
   "metadata": {},
   "outputs": [],
   "source": [
    "plt.rcParams['figure.figsize'] = [20, 12]\n",
    "for pos, val in enumerate(numerical): \n",
    "    plt.subplot(3, 3, pos+1)\n",
    "    data[val].hist()\n",
    "    plt.title(val)\n",
    "plt.savefig('img/distribution_before_transformation.png')\n",
    "plt.show()"
   ]
  },
  {
   "cell_type": "code",
   "execution_count": null,
   "metadata": {},
   "outputs": [],
   "source": [
    "data_new = copy.deepcopy(data)\n",
    "plt.rcParams['figure.figsize'] = [20, 12]\n",
    "for pos, val in enumerate(numerical): \n",
    "    plt.subplot(3, 3, pos+1)\n",
    "    data_new[val],lmbda = boxcox(data_new[val]+0.001, lmbda = None)\n",
    "    print(val+ \"\\'s lambda: %0.3f\" % lmbda)\n",
    "    data_new[val].hist()\n",
    "    plt.title(val)\n",
    "plt.savefig('img/distribution_after_transformation.png')\n",
    "plt.show()\n",
    "\n",
    "data_new[numerical].describe()"
   ]
  },
  {
   "cell_type": "markdown",
   "metadata": {},
   "source": [
    "# Clustering (K-means)"
   ]
  },
  {
   "cell_type": "markdown",
   "metadata": {},
   "source": [
    "### <u> 1. Selecting columns for clustering & one-hot encoding</u> "
   ]
  },
  {
   "cell_type": "code",
   "execution_count": null,
   "metadata": {},
   "outputs": [],
   "source": [
    "selected_categorical = ['nppes_provider_gender','nppes_entity_code', \n",
    "       'medicare_participation_indicator', 'place_of_service','hcpcs_drug_indicator']\n",
    "selected_numerical = [\"bene_day_srvc_cnt\", \"bene_unique_cnt\", \"average_Medicare_allowed_amt\"]\n",
    "features = data_new[selected_categorical + selected_numerical]\n",
    "for i in selected_categorical:\n",
    "    dummies = pd.get_dummies(features[i], prefix = i)\n",
    "    features = pd.concat([features, dummies], axis = 1)\n",
    "    del features[i]\n",
    "features.head()"
   ]
  },
  {
   "cell_type": "code",
   "execution_count": null,
   "metadata": {},
   "outputs": [],
   "source": [
    "features.describe()"
   ]
  },
  {
   "cell_type": "markdown",
   "metadata": {},
   "source": [
    "### <u> 2. Normalizing every column</u> "
   ]
  },
  {
   "cell_type": "code",
   "execution_count": null,
   "metadata": {},
   "outputs": [],
   "source": [
    "scaler = StandardScaler()\n",
    "dfNorm = scaler.fit_transform(features)\n",
    "dfNorm = pd.DataFrame(dfNorm)\n",
    "dfNorm.describe()"
   ]
  },
  {
   "cell_type": "markdown",
   "metadata": {},
   "source": [
    "### <u> 3. Finding appropriate K</u> "
   ]
  },
  {
   "cell_type": "code",
   "execution_count": null,
   "metadata": {},
   "outputs": [],
   "source": [
    "inertia = []\n",
    "silh = []\n",
    "K = range(2,20)\n",
    "for k in K:\n",
    "    kmeans = KMeans(n_clusters = k, random_state = 1).fit(dfNorm)\n",
    "    inertia.append(kmeans.inertia_)\n",
    "    silhouette_avg = silhouette_score(dfNorm, kmeans.labels_)\n",
    "    silh.append(silhouette_avg)"
   ]
  },
  {
   "cell_type": "code",
   "execution_count": null,
   "metadata": {},
   "outputs": [],
   "source": [
    "plt.rcParams['figure.figsize'] = [10, 6]\n",
    "plt.plot(K, inertia, 'bo-')\n",
    "plt.xlabel('k')\n",
    "plt.ylabel('Inertia')\n",
    "plt.title('Scree plot')\n",
    "plt.savefig('img/scree_plot.png')\n",
    "plt.show()"
   ]
  },
  {
   "cell_type": "code",
   "execution_count": null,
   "metadata": {},
   "outputs": [],
   "source": [
    "plt.rcParams['figure.figsize'] = [10, 6]\n",
    "plt.plot(K, silh, 'bo-')\n",
    "plt.xlabel('k')\n",
    "plt.ylabel('Silhouette score')\n",
    "plt.title('Silhouette score')\n",
    "plt.savefig('img/silhoutte_score.png')\n",
    "plt.show()"
   ]
  },
  {
   "cell_type": "markdown",
   "metadata": {},
   "source": [
    "### <u> 4. Clustering with chosen K</u> "
   ]
  },
  {
   "cell_type": "code",
   "execution_count": null,
   "metadata": {},
   "outputs": [],
   "source": [
    "selected = 6\n",
    "kmeans = KMeans(n_clusters = selected, random_state = 1).fit(dfNorm)\n",
    "k_means_labels = kmeans.labels_\n",
    "for i in range(selected):\n",
    "    print(i)\n",
    "    print(list(k_means_labels).count(i))\n",
    "    print(\"====\")"
   ]
  },
  {
   "cell_type": "code",
   "execution_count": null,
   "metadata": {},
   "outputs": [],
   "source": [
    "data[\"Cluster\"] = k_means_labels"
   ]
  },
  {
   "cell_type": "code",
   "execution_count": null,
   "metadata": {},
   "outputs": [],
   "source": [
    "data.to_csv(\"added.csv\")"
   ]
  }
 ],
 "metadata": {
  "kernelspec": {
   "display_name": "Python 3",
   "language": "python",
   "name": "python3"
  },
  "language_info": {
   "codemirror_mode": {
    "name": "ipython",
    "version": 3
   },
   "file_extension": ".py",
   "mimetype": "text/x-python",
   "name": "python",
   "nbconvert_exporter": "python",
   "pygments_lexer": "ipython3",
   "version": "3.7.4"
  }
 },
 "nbformat": 4,
 "nbformat_minor": 2
}
