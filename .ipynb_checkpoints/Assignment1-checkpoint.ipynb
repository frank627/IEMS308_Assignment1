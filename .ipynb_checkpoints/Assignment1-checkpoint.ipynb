{
 "cells": [
  {
   "cell_type": "code",
   "execution_count": 1,
   "metadata": {},
   "outputs": [],
   "source": [
    "import numpy as np \n",
    "import pandas as pd \n",
    "pd.set_option('display.float_format', lambda x: '%.3f' % x)\n",
    "import csv\n",
    "import copy \n",
    "\n",
    "from sklearn.cluster import KMeans\n",
    "from sklearn.preprocessing import StandardScaler\n",
    "from sklearn.metrics import silhouette_score\n",
    "from scipy.stats import boxcox\n",
    "\n",
    "import matplotlib.pyplot as plt\n",
    "%matplotlib inline\n",
    "import seaborn as sns"
   ]
  },
  {
   "cell_type": "markdown",
   "metadata": {},
   "source": [
    "# Data Preparation & Preprocessing"
   ]
  },
  {
   "cell_type": "markdown",
   "metadata": {},
   "source": [
    "### <u> (0) Converting data (from txt to CSV)</u>\n",
    "Because it takes long, I do not recommend running this snippet. <br>\n",
    "converted.csv, which is the output from the following snippet, is already in data folder. "
   ]
  },
  {
   "cell_type": "code",
   "execution_count": null,
   "metadata": {},
   "outputs": [],
   "source": [
    "with open('data/Medicare_Provider_Util_Payment_PUF_CY2017/Medicare_Provider_Util_Payment_PUF_CY2017.txt', newline = '') as source_csv:                                                                                          \n",
    "    csv_reader = csv.reader(source_csv, delimiter='\\t')\n",
    "    with open(\"data/converted.csv\", 'a') as out_csv:  # converted data will be saved as \"data.csv\"\n",
    "        csv_writer = csv.writer(out_csv, delimiter=',', quoting=csv.QUOTE_MINIMAL, lineterminator='\\n')\n",
    "        for each_line in csv_reader:\n",
    "            csv_writer.writerow(each_line)"
   ]
  },
  {
   "cell_type": "markdown",
   "metadata": {},
   "source": [
    "### <u> (1) Filtering data by country and entity_code</u>\n",
    "I limited the analysis to individual service providers (SPs) in U.S. This prevents unintentional external factors from affecting the analysis."
   ]
  },
  {
   "cell_type": "code",
   "execution_count": 2,
   "metadata": {},
   "outputs": [
    {
     "name": "stderr",
     "output_type": "stream",
     "text": [
      "/Users/junhwalee/opt/anaconda3/lib/python3.7/site-packages/IPython/core/interactiveshell.py:3058: DtypeWarning: Columns (10) have mixed types. Specify dtype option on import or set low_memory=False.\n",
      "  interactivity=interactivity, compiler=compiler, result=result)\n"
     ]
    },
    {
     "data": {
      "text/plain": [
       "(9847444, 26)"
      ]
     },
     "execution_count": 2,
     "metadata": {},
     "output_type": "execute_result"
    }
   ],
   "source": [
    "data = pd.read_csv(\"data/converted.csv\")\n",
    "data.shape # Original data has 9,847,443 samples with 26 columns/ The first row is excluded because it is irrelevant"
   ]
  },
  {
   "cell_type": "code",
   "execution_count": 3,
   "metadata": {},
   "outputs": [
    {
     "data": {
      "text/html": [
       "<div>\n",
       "<style scoped>\n",
       "    .dataframe tbody tr th:only-of-type {\n",
       "        vertical-align: middle;\n",
       "    }\n",
       "\n",
       "    .dataframe tbody tr th {\n",
       "        vertical-align: top;\n",
       "    }\n",
       "\n",
       "    .dataframe thead th {\n",
       "        text-align: right;\n",
       "    }\n",
       "</style>\n",
       "<table border=\"1\" class=\"dataframe\">\n",
       "  <thead>\n",
       "    <tr style=\"text-align: right;\">\n",
       "      <th></th>\n",
       "      <th>npi</th>\n",
       "      <th>nppes_provider_last_org_name</th>\n",
       "      <th>nppes_provider_first_name</th>\n",
       "      <th>nppes_provider_mi</th>\n",
       "      <th>nppes_credentials</th>\n",
       "      <th>nppes_provider_gender</th>\n",
       "      <th>nppes_entity_code</th>\n",
       "      <th>nppes_provider_street1</th>\n",
       "      <th>nppes_provider_street2</th>\n",
       "      <th>nppes_provider_city</th>\n",
       "      <th>...</th>\n",
       "      <th>hcpcs_code</th>\n",
       "      <th>hcpcs_description</th>\n",
       "      <th>hcpcs_drug_indicator</th>\n",
       "      <th>line_srvc_cnt</th>\n",
       "      <th>bene_unique_cnt</th>\n",
       "      <th>bene_day_srvc_cnt</th>\n",
       "      <th>average_Medicare_allowed_amt</th>\n",
       "      <th>average_submitted_chrg_amt</th>\n",
       "      <th>average_Medicare_payment_amt</th>\n",
       "      <th>average_Medicare_standard_amt</th>\n",
       "    </tr>\n",
       "  </thead>\n",
       "  <tbody>\n",
       "    <tr>\n",
       "      <td>0</td>\n",
       "      <td>1</td>\n",
       "      <td>CPT copyright 2016 American Medical Associatio...</td>\n",
       "      <td>NaN</td>\n",
       "      <td>NaN</td>\n",
       "      <td>NaN</td>\n",
       "      <td>NaN</td>\n",
       "      <td>NaN</td>\n",
       "      <td>NaN</td>\n",
       "      <td>NaN</td>\n",
       "      <td>NaN</td>\n",
       "      <td>...</td>\n",
       "      <td>NaN</td>\n",
       "      <td>NaN</td>\n",
       "      <td>NaN</td>\n",
       "      <td>nan</td>\n",
       "      <td>nan</td>\n",
       "      <td>nan</td>\n",
       "      <td>nan</td>\n",
       "      <td>nan</td>\n",
       "      <td>nan</td>\n",
       "      <td>nan</td>\n",
       "    </tr>\n",
       "    <tr>\n",
       "      <td>1</td>\n",
       "      <td>1003000126</td>\n",
       "      <td>ENKESHAFI</td>\n",
       "      <td>ARDALAN</td>\n",
       "      <td>NaN</td>\n",
       "      <td>M.D.</td>\n",
       "      <td>M</td>\n",
       "      <td>I</td>\n",
       "      <td>900 SETON DR</td>\n",
       "      <td>NaN</td>\n",
       "      <td>CUMBERLAND</td>\n",
       "      <td>...</td>\n",
       "      <td>99217</td>\n",
       "      <td>Hospital observation care discharge</td>\n",
       "      <td>N</td>\n",
       "      <td>100.000</td>\n",
       "      <td>96.000</td>\n",
       "      <td>100.000</td>\n",
       "      <td>73.399</td>\n",
       "      <td>325.780</td>\n",
       "      <td>56.827</td>\n",
       "      <td>57.492</td>\n",
       "    </tr>\n",
       "    <tr>\n",
       "      <td>2</td>\n",
       "      <td>1003000126</td>\n",
       "      <td>ENKESHAFI</td>\n",
       "      <td>ARDALAN</td>\n",
       "      <td>NaN</td>\n",
       "      <td>M.D.</td>\n",
       "      <td>M</td>\n",
       "      <td>I</td>\n",
       "      <td>900 SETON DR</td>\n",
       "      <td>NaN</td>\n",
       "      <td>CUMBERLAND</td>\n",
       "      <td>...</td>\n",
       "      <td>99218</td>\n",
       "      <td>Hospital observation care typically 30 minutes</td>\n",
       "      <td>N</td>\n",
       "      <td>26.000</td>\n",
       "      <td>25.000</td>\n",
       "      <td>26.000</td>\n",
       "      <td>100.080</td>\n",
       "      <td>449.000</td>\n",
       "      <td>78.460</td>\n",
       "      <td>79.306</td>\n",
       "    </tr>\n",
       "    <tr>\n",
       "      <td>3</td>\n",
       "      <td>1003000126</td>\n",
       "      <td>ENKESHAFI</td>\n",
       "      <td>ARDALAN</td>\n",
       "      <td>NaN</td>\n",
       "      <td>M.D.</td>\n",
       "      <td>M</td>\n",
       "      <td>I</td>\n",
       "      <td>900 SETON DR</td>\n",
       "      <td>NaN</td>\n",
       "      <td>CUMBERLAND</td>\n",
       "      <td>...</td>\n",
       "      <td>99219</td>\n",
       "      <td>Hospital observation care typically 50 minutes</td>\n",
       "      <td>N</td>\n",
       "      <td>52.000</td>\n",
       "      <td>51.000</td>\n",
       "      <td>52.000</td>\n",
       "      <td>136.380</td>\n",
       "      <td>614.000</td>\n",
       "      <td>102.808</td>\n",
       "      <td>103.895</td>\n",
       "    </tr>\n",
       "    <tr>\n",
       "      <td>4</td>\n",
       "      <td>1003000126</td>\n",
       "      <td>ENKESHAFI</td>\n",
       "      <td>ARDALAN</td>\n",
       "      <td>NaN</td>\n",
       "      <td>M.D.</td>\n",
       "      <td>M</td>\n",
       "      <td>I</td>\n",
       "      <td>900 SETON DR</td>\n",
       "      <td>NaN</td>\n",
       "      <td>CUMBERLAND</td>\n",
       "      <td>...</td>\n",
       "      <td>99220</td>\n",
       "      <td>Hospital observation care typically 70 minutes...</td>\n",
       "      <td>N</td>\n",
       "      <td>59.000</td>\n",
       "      <td>59.000</td>\n",
       "      <td>59.000</td>\n",
       "      <td>190.364</td>\n",
       "      <td>755.932</td>\n",
       "      <td>141.294</td>\n",
       "      <td>142.866</td>\n",
       "    </tr>\n",
       "  </tbody>\n",
       "</table>\n",
       "<p>5 rows × 26 columns</p>\n",
       "</div>"
      ],
      "text/plain": [
       "          npi                       nppes_provider_last_org_name  \\\n",
       "0           1  CPT copyright 2016 American Medical Associatio...   \n",
       "1  1003000126                                          ENKESHAFI   \n",
       "2  1003000126                                          ENKESHAFI   \n",
       "3  1003000126                                          ENKESHAFI   \n",
       "4  1003000126                                          ENKESHAFI   \n",
       "\n",
       "  nppes_provider_first_name nppes_provider_mi nppes_credentials  \\\n",
       "0                       NaN               NaN               NaN   \n",
       "1                   ARDALAN               NaN              M.D.   \n",
       "2                   ARDALAN               NaN              M.D.   \n",
       "3                   ARDALAN               NaN              M.D.   \n",
       "4                   ARDALAN               NaN              M.D.   \n",
       "\n",
       "  nppes_provider_gender nppes_entity_code nppes_provider_street1  \\\n",
       "0                   NaN               NaN                    NaN   \n",
       "1                     M                 I           900 SETON DR   \n",
       "2                     M                 I           900 SETON DR   \n",
       "3                     M                 I           900 SETON DR   \n",
       "4                     M                 I           900 SETON DR   \n",
       "\n",
       "  nppes_provider_street2 nppes_provider_city  ... hcpcs_code  \\\n",
       "0                    NaN                 NaN  ...        NaN   \n",
       "1                    NaN          CUMBERLAND  ...      99217   \n",
       "2                    NaN          CUMBERLAND  ...      99218   \n",
       "3                    NaN          CUMBERLAND  ...      99219   \n",
       "4                    NaN          CUMBERLAND  ...      99220   \n",
       "\n",
       "                                   hcpcs_description hcpcs_drug_indicator  \\\n",
       "0                                                NaN                  NaN   \n",
       "1                Hospital observation care discharge                    N   \n",
       "2     Hospital observation care typically 30 minutes                    N   \n",
       "3     Hospital observation care typically 50 minutes                    N   \n",
       "4  Hospital observation care typically 70 minutes...                    N   \n",
       "\n",
       "  line_srvc_cnt bene_unique_cnt bene_day_srvc_cnt  \\\n",
       "0           nan             nan               nan   \n",
       "1       100.000          96.000           100.000   \n",
       "2        26.000          25.000            26.000   \n",
       "3        52.000          51.000            52.000   \n",
       "4        59.000          59.000            59.000   \n",
       "\n",
       "  average_Medicare_allowed_amt average_submitted_chrg_amt  \\\n",
       "0                          nan                        nan   \n",
       "1                       73.399                    325.780   \n",
       "2                      100.080                    449.000   \n",
       "3                      136.380                    614.000   \n",
       "4                      190.364                    755.932   \n",
       "\n",
       "  average_Medicare_payment_amt  average_Medicare_standard_amt  \n",
       "0                          nan                            nan  \n",
       "1                       56.827                         57.492  \n",
       "2                       78.460                         79.306  \n",
       "3                      102.808                        103.895  \n",
       "4                      141.294                        142.866  \n",
       "\n",
       "[5 rows x 26 columns]"
      ]
     },
     "execution_count": 3,
     "metadata": {},
     "output_type": "execute_result"
    }
   ],
   "source": [
    "data.head() "
   ]
  },
  {
   "cell_type": "code",
   "execution_count": 4,
   "metadata": {},
   "outputs": [],
   "source": [
    "# Filtering only service provider in the United States\n",
    "data = data[data[\"nppes_provider_country\"] == \"US\"]\n",
    "# Filtering only individual service provider\n",
    "data = data[data[\"nppes_entity_code\"] == \"I\"]\n",
    "# Dropping duplicates if there are duplicates\n",
    "data = data.drop_duplicates(subset=None, keep=\"first\", inplace=False).reset_index(drop=True)"
   ]
  },
  {
   "cell_type": "code",
   "execution_count": 5,
   "metadata": {},
   "outputs": [
    {
     "data": {
      "text/plain": [
       "(9415529, 26)"
      ]
     },
     "execution_count": 5,
     "metadata": {},
     "output_type": "execute_result"
    }
   ],
   "source": [
    "data.shape # Applying two filters above ended up with 9,415,529 samples with 26 columns"
   ]
  },
  {
   "cell_type": "markdown",
   "metadata": {},
   "source": [
    "Then I classified categorical columns & numerical columns.\n",
    "After that, each column is converted to appropriate data type for further preprocessing."
   ]
  },
  {
   "cell_type": "code",
   "execution_count": 6,
   "metadata": {},
   "outputs": [],
   "source": [
    "categorical = ['npi', 'nppes_provider_last_org_name', 'nppes_provider_first_name',\n",
    "       'nppes_provider_mi', 'nppes_credentials', 'nppes_provider_gender',\n",
    "       'nppes_entity_code', 'nppes_provider_street1', 'nppes_provider_street2',\n",
    "       'nppes_provider_city', 'nppes_provider_state', 'nppes_provider_zip',\n",
    "       'nppes_provider_country', 'provider_type',\n",
    "       'medicare_participation_indicator', 'place_of_service', 'hcpcs_code',\n",
    "       'hcpcs_description', 'hcpcs_drug_indicator']\n",
    "for cat_column in categorical:\n",
    "    data[cat_column] = data[cat_column].astype(\"str\")\n",
    "    \n",
    "numerical = ['line_srvc_cnt','bene_unique_cnt', 'bene_day_srvc_cnt',\n",
    "             'average_Medicare_allowed_amt', 'average_submitted_chrg_amt', \n",
    "             'average_Medicare_payment_amt', 'average_Medicare_standard_amt']\n",
    "for num_column in numerical: \n",
    "    data[num_column] = data[num_column].astype('float')"
   ]
  },
  {
   "cell_type": "markdown",
   "metadata": {},
   "source": [
    "### <u> (2) Creating a new column \"medicare_perc\"</u>"
   ]
  },
  {
   "cell_type": "markdown",
   "metadata": {},
   "source": [
    "I created one new column for further usage. <br> \n",
    "\n",
    "<b> medicare_perc </b> <br>\n",
    "Proportion that (Medicare paid after deductible and coinsurance amounts have been deducted) out of (total charges that the provider submitted for the service). That is, it represents the proportion of Medicare actually covered out of total charges. By nature, it should be in between 0 and 1 because average_Medicare_payment_amt <= average_submitted_chrg_amt. "
   ]
  },
  {
   "cell_type": "code",
   "execution_count": 7,
   "metadata": {},
   "outputs": [],
   "source": [
    "data[\"medicare_perc\"] = data[\"average_Medicare_standard_amt\"]/data[\"average_submitted_chrg_amt\"]\n",
    "numerical.append(\"medicare_perc\")"
   ]
  },
  {
   "cell_type": "markdown",
   "metadata": {},
   "source": [
    "### <u> (3) Aggregating by npi</u>\n",
    "For each npi, I chose the sample that had the least coverage from Medicare (lowest medicare_perc). This is the decision to have one row for each unique npi and ultimately find SPs that are outliers. "
   ]
  },
  {
   "cell_type": "code",
   "execution_count": 8,
   "metadata": {},
   "outputs": [
    {
     "data": {
      "text/plain": [
       "(971558, 27)"
      ]
     },
     "execution_count": 8,
     "metadata": {},
     "output_type": "execute_result"
    }
   ],
   "source": [
    "data = data.loc[data.groupby([\"npi\"])[\"medicare_perc\"].idxmin()]  \n",
    "data.shape"
   ]
  },
  {
   "cell_type": "markdown",
   "metadata": {},
   "source": [
    "### <u> (4) Filtering data by state</u>\n",
    "To remove the effect of being in different states on my analysis, I decided to choose one state that I would work with. Based on the assumption that higher variablility in \"medicare_perc\" means the higher likelihood of the existence of outliers, I chose \"WI.\" "
   ]
  },
  {
   "cell_type": "code",
   "execution_count": 9,
   "metadata": {},
   "outputs": [
    {
     "data": {
      "text/html": [
       "<div>\n",
       "<style scoped>\n",
       "    .dataframe tbody tr th:only-of-type {\n",
       "        vertical-align: middle;\n",
       "    }\n",
       "\n",
       "    .dataframe tbody tr th {\n",
       "        vertical-align: top;\n",
       "    }\n",
       "\n",
       "    .dataframe thead th {\n",
       "        text-align: right;\n",
       "    }\n",
       "</style>\n",
       "<table border=\"1\" class=\"dataframe\">\n",
       "  <thead>\n",
       "    <tr style=\"text-align: right;\">\n",
       "      <th></th>\n",
       "      <th>mean</th>\n",
       "      <th>std</th>\n",
       "      <th>count</th>\n",
       "      <th>std/mean</th>\n",
       "    </tr>\n",
       "    <tr>\n",
       "      <th>nppes_provider_state</th>\n",
       "      <th></th>\n",
       "      <th></th>\n",
       "      <th></th>\n",
       "      <th></th>\n",
       "    </tr>\n",
       "  </thead>\n",
       "  <tbody>\n",
       "    <tr>\n",
       "      <td>WI</td>\n",
       "      <td>0.182</td>\n",
       "      <td>0.171</td>\n",
       "      <td>20955</td>\n",
       "      <td>0.937</td>\n",
       "    </tr>\n",
       "    <tr>\n",
       "      <td>MS</td>\n",
       "      <td>0.195</td>\n",
       "      <td>0.172</td>\n",
       "      <td>7901</td>\n",
       "      <td>0.884</td>\n",
       "    </tr>\n",
       "    <tr>\n",
       "      <td>AP</td>\n",
       "      <td>0.248</td>\n",
       "      <td>0.209</td>\n",
       "      <td>31</td>\n",
       "      <td>0.842</td>\n",
       "    </tr>\n",
       "    <tr>\n",
       "      <td>AL</td>\n",
       "      <td>0.219</td>\n",
       "      <td>0.184</td>\n",
       "      <td>13258</td>\n",
       "      <td>0.840</td>\n",
       "    </tr>\n",
       "    <tr>\n",
       "      <td>AS</td>\n",
       "      <td>0.169</td>\n",
       "      <td>0.139</td>\n",
       "      <td>3</td>\n",
       "      <td>0.824</td>\n",
       "    </tr>\n",
       "    <tr>\n",
       "      <td>SC</td>\n",
       "      <td>0.213</td>\n",
       "      <td>0.175</td>\n",
       "      <td>14249</td>\n",
       "      <td>0.819</td>\n",
       "    </tr>\n",
       "    <tr>\n",
       "      <td>TX</td>\n",
       "      <td>0.207</td>\n",
       "      <td>0.170</td>\n",
       "      <td>60880</td>\n",
       "      <td>0.818</td>\n",
       "    </tr>\n",
       "    <tr>\n",
       "      <td>GA</td>\n",
       "      <td>0.197</td>\n",
       "      <td>0.160</td>\n",
       "      <td>25773</td>\n",
       "      <td>0.813</td>\n",
       "    </tr>\n",
       "    <tr>\n",
       "      <td>TN</td>\n",
       "      <td>0.206</td>\n",
       "      <td>0.167</td>\n",
       "      <td>22408</td>\n",
       "      <td>0.807</td>\n",
       "    </tr>\n",
       "    <tr>\n",
       "      <td>AA</td>\n",
       "      <td>0.202</td>\n",
       "      <td>0.158</td>\n",
       "      <td>10</td>\n",
       "      <td>0.781</td>\n",
       "    </tr>\n",
       "  </tbody>\n",
       "</table>\n",
       "</div>"
      ],
      "text/plain": [
       "                      mean   std  count  std/mean\n",
       "nppes_provider_state                             \n",
       "WI                   0.182 0.171  20955     0.937\n",
       "MS                   0.195 0.172   7901     0.884\n",
       "AP                   0.248 0.209     31     0.842\n",
       "AL                   0.219 0.184  13258     0.840\n",
       "AS                   0.169 0.139      3     0.824\n",
       "SC                   0.213 0.175  14249     0.819\n",
       "TX                   0.207 0.170  60880     0.818\n",
       "GA                   0.197 0.160  25773     0.813\n",
       "TN                   0.206 0.167  22408     0.807\n",
       "AA                   0.202 0.158     10     0.781"
      ]
     },
     "execution_count": 9,
     "metadata": {},
     "output_type": "execute_result"
    }
   ],
   "source": [
    "grouping = \"nppes_provider_state\"\n",
    "grouped_by_state = pd.DataFrame()\n",
    "grouped_by_state[\"mean\"] = data.groupby(grouping)[\"medicare_perc\"].mean()\n",
    "grouped_by_state[\"std\"] = data.groupby(grouping)[\"medicare_perc\"].std()\n",
    "grouped_by_state[\"count\"] = data.groupby(grouping)[\"medicare_perc\"].count()\n",
    "grouped_by_state[\"std/mean\"] = grouped_by_state[\"std\"]/grouped_by_state[\"mean\"]\n",
    "grouped_by_state.sort_values(\"std/mean\", ascending = False).head(10)"
   ]
  },
  {
   "cell_type": "code",
   "execution_count": 10,
   "metadata": {},
   "outputs": [
    {
     "data": {
      "text/plain": [
       "(20955, 27)"
      ]
     },
     "execution_count": 10,
     "metadata": {},
     "output_type": "execute_result"
    }
   ],
   "source": [
    "data = data[data[\"nppes_provider_state\"] == \"WI\"].reset_index(drop = True)\n",
    "data.shape # ended up with 20,955 rows and 28 columns "
   ]
  },
  {
   "cell_type": "code",
   "execution_count": 11,
   "metadata": {},
   "outputs": [],
   "source": [
    "data.to_csv(\"data/filtered.csv\", index = False) # filtered data with additional column is saved as \"filtered.csv\""
   ]
  },
  {
   "cell_type": "markdown",
   "metadata": {},
   "source": [
    "# Exploratory Data Analysis (EDA)"
   ]
  },
  {
   "cell_type": "markdown",
   "metadata": {},
   "source": [
    "### <u> (1) Checking unique values of each column</u>"
   ]
  },
  {
   "cell_type": "code",
   "execution_count": 12,
   "metadata": {},
   "outputs": [
    {
     "data": {
      "text/html": [
       "<div>\n",
       "<style scoped>\n",
       "    .dataframe tbody tr th:only-of-type {\n",
       "        vertical-align: middle;\n",
       "    }\n",
       "\n",
       "    .dataframe tbody tr th {\n",
       "        vertical-align: top;\n",
       "    }\n",
       "\n",
       "    .dataframe thead th {\n",
       "        text-align: right;\n",
       "    }\n",
       "</style>\n",
       "<table border=\"1\" class=\"dataframe\">\n",
       "  <thead>\n",
       "    <tr style=\"text-align: right;\">\n",
       "      <th></th>\n",
       "      <th>line_srvc_cnt</th>\n",
       "      <th>bene_unique_cnt</th>\n",
       "      <th>bene_day_srvc_cnt</th>\n",
       "      <th>average_Medicare_allowed_amt</th>\n",
       "      <th>average_submitted_chrg_amt</th>\n",
       "      <th>average_Medicare_payment_amt</th>\n",
       "      <th>average_Medicare_standard_amt</th>\n",
       "      <th>medicare_perc</th>\n",
       "    </tr>\n",
       "  </thead>\n",
       "  <tbody>\n",
       "    <tr>\n",
       "      <td>count</td>\n",
       "      <td>20955.000</td>\n",
       "      <td>20955.000</td>\n",
       "      <td>20955.000</td>\n",
       "      <td>20955.000</td>\n",
       "      <td>20955.000</td>\n",
       "      <td>20955.000</td>\n",
       "      <td>20955.000</td>\n",
       "      <td>20955.000</td>\n",
       "    </tr>\n",
       "    <tr>\n",
       "      <td>mean</td>\n",
       "      <td>118.856</td>\n",
       "      <td>39.862</td>\n",
       "      <td>83.465</td>\n",
       "      <td>70.844</td>\n",
       "      <td>720.135</td>\n",
       "      <td>52.328</td>\n",
       "      <td>54.760</td>\n",
       "      <td>0.182</td>\n",
       "    </tr>\n",
       "    <tr>\n",
       "      <td>std</td>\n",
       "      <td>377.894</td>\n",
       "      <td>54.387</td>\n",
       "      <td>148.336</td>\n",
       "      <td>123.308</td>\n",
       "      <td>2131.242</td>\n",
       "      <td>96.485</td>\n",
       "      <td>102.179</td>\n",
       "      <td>0.171</td>\n",
       "    </tr>\n",
       "    <tr>\n",
       "      <td>min</td>\n",
       "      <td>11.000</td>\n",
       "      <td>11.000</td>\n",
       "      <td>11.000</td>\n",
       "      <td>0.020</td>\n",
       "      <td>0.501</td>\n",
       "      <td>0.019</td>\n",
       "      <td>0.019</td>\n",
       "      <td>0.000</td>\n",
       "    </tr>\n",
       "    <tr>\n",
       "      <td>25%</td>\n",
       "      <td>18.000</td>\n",
       "      <td>15.000</td>\n",
       "      <td>17.000</td>\n",
       "      <td>16.290</td>\n",
       "      <td>76.750</td>\n",
       "      <td>10.952</td>\n",
       "      <td>11.551</td>\n",
       "      <td>0.067</td>\n",
       "    </tr>\n",
       "    <tr>\n",
       "      <td>50%</td>\n",
       "      <td>34.000</td>\n",
       "      <td>23.000</td>\n",
       "      <td>32.000</td>\n",
       "      <td>41.830</td>\n",
       "      <td>191.000</td>\n",
       "      <td>29.353</td>\n",
       "      <td>30.927</td>\n",
       "      <td>0.129</td>\n",
       "    </tr>\n",
       "    <tr>\n",
       "      <td>75%</td>\n",
       "      <td>93.000</td>\n",
       "      <td>42.000</td>\n",
       "      <td>83.000</td>\n",
       "      <td>87.080</td>\n",
       "      <td>426.889</td>\n",
       "      <td>60.712</td>\n",
       "      <td>63.340</td>\n",
       "      <td>0.237</td>\n",
       "    </tr>\n",
       "    <tr>\n",
       "      <td>max</td>\n",
       "      <td>15446.000</td>\n",
       "      <td>1766.000</td>\n",
       "      <td>2685.000</td>\n",
       "      <td>2433.179</td>\n",
       "      <td>33776.000</td>\n",
       "      <td>1897.367</td>\n",
       "      <td>1969.570</td>\n",
       "      <td>2.118</td>\n",
       "    </tr>\n",
       "  </tbody>\n",
       "</table>\n",
       "</div>"
      ],
      "text/plain": [
       "       line_srvc_cnt  bene_unique_cnt  bene_day_srvc_cnt  \\\n",
       "count      20955.000        20955.000          20955.000   \n",
       "mean         118.856           39.862             83.465   \n",
       "std          377.894           54.387            148.336   \n",
       "min           11.000           11.000             11.000   \n",
       "25%           18.000           15.000             17.000   \n",
       "50%           34.000           23.000             32.000   \n",
       "75%           93.000           42.000             83.000   \n",
       "max        15446.000         1766.000           2685.000   \n",
       "\n",
       "       average_Medicare_allowed_amt  average_submitted_chrg_amt  \\\n",
       "count                     20955.000                   20955.000   \n",
       "mean                         70.844                     720.135   \n",
       "std                         123.308                    2131.242   \n",
       "min                           0.020                       0.501   \n",
       "25%                          16.290                      76.750   \n",
       "50%                          41.830                     191.000   \n",
       "75%                          87.080                     426.889   \n",
       "max                        2433.179                   33776.000   \n",
       "\n",
       "       average_Medicare_payment_amt  average_Medicare_standard_amt  \\\n",
       "count                     20955.000                      20955.000   \n",
       "mean                         52.328                         54.760   \n",
       "std                          96.485                        102.179   \n",
       "min                           0.019                          0.019   \n",
       "25%                          10.952                         11.551   \n",
       "50%                          29.353                         30.927   \n",
       "75%                          60.712                         63.340   \n",
       "max                        1897.367                       1969.570   \n",
       "\n",
       "       medicare_perc  \n",
       "count      20955.000  \n",
       "mean           0.182  \n",
       "std            0.171  \n",
       "min            0.000  \n",
       "25%            0.067  \n",
       "50%            0.129  \n",
       "75%            0.237  \n",
       "max            2.118  "
      ]
     },
     "execution_count": 12,
     "metadata": {},
     "output_type": "execute_result"
    }
   ],
   "source": [
    "data = pd.read_csv(\"data/filtered.csv\")\n",
    "data[numerical].describe()"
   ]
  },
  {
   "cell_type": "code",
   "execution_count": 13,
   "metadata": {},
   "outputs": [
    {
     "data": {
      "text/plain": [
       "npi                                 20955\n",
       "nppes_provider_last_org_name        13371\n",
       "nppes_provider_first_name            3956\n",
       "nppes_provider_mi                      26\n",
       "nppes_credentials                     799\n",
       "nppes_provider_gender                   2\n",
       "nppes_entity_code                       1\n",
       "nppes_provider_street1               4829\n",
       "nppes_provider_street2               1470\n",
       "nppes_provider_city                   416\n",
       "nppes_provider_zip                   3931\n",
       "nppes_provider_state                    1\n",
       "nppes_provider_country                  1\n",
       "provider_type                          76\n",
       "medicare_participation_indicator        2\n",
       "place_of_service                        2\n",
       "hcpcs_code                            950\n",
       "hcpcs_description                     912\n",
       "hcpcs_drug_indicator                    2\n",
       "line_srvc_cnt                        1083\n",
       "bene_unique_cnt                       386\n",
       "bene_day_srvc_cnt                     820\n",
       "average_Medicare_allowed_amt         7904\n",
       "average_submitted_chrg_amt           9412\n",
       "average_Medicare_payment_amt        17292\n",
       "average_Medicare_standard_amt       16785\n",
       "medicare_perc                       19133\n",
       "dtype: int64"
      ]
     },
     "execution_count": 13,
     "metadata": {},
     "output_type": "execute_result"
    }
   ],
   "source": [
    "data.nunique()"
   ]
  },
  {
   "cell_type": "markdown",
   "metadata": {},
   "source": [
    "There are 3,931 zip codes. However, that number is way higher than 709 zip codes that Wisconsin has.  "
   ]
  },
  {
   "cell_type": "code",
   "execution_count": 14,
   "metadata": {},
   "outputs": [
    {
     "data": {
      "text/plain": [
       "0   537112952.000\n",
       "1   532263548.000\n",
       "2   530054601.000\n",
       "3   546015429.000\n",
       "4   544495703.000\n",
       "5   547035222.000\n",
       "6   530959274.000\n",
       "7   544828492.000\n",
       "8   532114445.000\n",
       "9   532221613.000\n",
       "Name: nppes_provider_zip, dtype: float64"
      ]
     },
     "execution_count": 14,
     "metadata": {},
     "output_type": "execute_result"
    }
   ],
   "source": [
    "data[\"nppes_provider_zip\"].head(10) # The problem is that there are extra numbers following the first 5 digit letters. "
   ]
  },
  {
   "cell_type": "code",
   "execution_count": 15,
   "metadata": {},
   "outputs": [
    {
     "data": {
      "text/plain": [
       "462"
      ]
     },
     "execution_count": 15,
     "metadata": {},
     "output_type": "execute_result"
    }
   ],
   "source": [
    "data[\"nppes_provider_zip\"] = data[\"nppes_provider_zip\"].astype(\"str\").str[:5] # subsetting first 5 digits\n",
    "data[\"nppes_provider_zip\"].nunique() # There are now 462 zip codes, which is more reasonable"
   ]
  },
  {
   "cell_type": "markdown",
   "metadata": {},
   "source": [
    "### <u> (2) Checking distribution of each numerical column with box-and-whisker plot </u>"
   ]
  },
  {
   "cell_type": "code",
   "execution_count": 16,
   "metadata": {},
   "outputs": [
    {
     "data": {
      "image/png": "[encoded data removed]",
      "text/plain": [
       "<Figure size 1440x864 with 8 Axes>"
      ]
     },
     "metadata": {
      "needs_background": "light"
     },
     "output_type": "display_data"
    }
   ],
   "source": [
    "plt.rcParams['figure.figsize'] = [20, 12]\n",
    "for pos, val in enumerate(numerical): \n",
    "    plt.subplot(3, 3, pos+1)\n",
    "    data[numerical].boxplot(column = val)\n",
    "    plt.title(val)\n",
    "plt.savefig('img/box_and_whisker.png')\n",
    "plt.show()"
   ]
  },
  {
   "cell_type": "markdown",
   "metadata": {},
   "source": [
    "### <u> (3) Checking correlation between numerical columns </u>"
   ]
  },
  {
   "cell_type": "code",
   "execution_count": 17,
   "metadata": {},
   "outputs": [
    {
     "data": {
      "text/html": [
       "<div>\n",
       "<style scoped>\n",
       "    .dataframe tbody tr th:only-of-type {\n",
       "        vertical-align: middle;\n",
       "    }\n",
       "\n",
       "    .dataframe tbody tr th {\n",
       "        vertical-align: top;\n",
       "    }\n",
       "\n",
       "    .dataframe thead th {\n",
       "        text-align: right;\n",
       "    }\n",
       "</style>\n",
       "<table border=\"1\" class=\"dataframe\">\n",
       "  <thead>\n",
       "    <tr style=\"text-align: right;\">\n",
       "      <th></th>\n",
       "      <th>line_srvc_cnt</th>\n",
       "      <th>bene_unique_cnt</th>\n",
       "      <th>bene_day_srvc_cnt</th>\n",
       "      <th>average_Medicare_allowed_amt</th>\n",
       "      <th>average_submitted_chrg_amt</th>\n",
       "      <th>average_Medicare_payment_amt</th>\n",
       "      <th>average_Medicare_standard_amt</th>\n",
       "      <th>medicare_perc</th>\n",
       "    </tr>\n",
       "  </thead>\n",
       "  <tbody>\n",
       "    <tr>\n",
       "      <td>line_srvc_cnt</td>\n",
       "      <td>1.000</td>\n",
       "      <td>0.293</td>\n",
       "      <td>0.428</td>\n",
       "      <td>-0.084</td>\n",
       "      <td>-0.069</td>\n",
       "      <td>-0.080</td>\n",
       "      <td>-0.079</td>\n",
       "      <td>0.077</td>\n",
       "    </tr>\n",
       "    <tr>\n",
       "      <td>bene_unique_cnt</td>\n",
       "      <td>0.293</td>\n",
       "      <td>1.000</td>\n",
       "      <td>0.571</td>\n",
       "      <td>-0.063</td>\n",
       "      <td>-0.068</td>\n",
       "      <td>-0.062</td>\n",
       "      <td>-0.061</td>\n",
       "      <td>-0.003</td>\n",
       "    </tr>\n",
       "    <tr>\n",
       "      <td>bene_day_srvc_cnt</td>\n",
       "      <td>0.428</td>\n",
       "      <td>0.571</td>\n",
       "      <td>1.000</td>\n",
       "      <td>-0.089</td>\n",
       "      <td>-0.101</td>\n",
       "      <td>-0.088</td>\n",
       "      <td>-0.085</td>\n",
       "      <td>0.293</td>\n",
       "    </tr>\n",
       "    <tr>\n",
       "      <td>average_Medicare_allowed_amt</td>\n",
       "      <td>-0.084</td>\n",
       "      <td>-0.063</td>\n",
       "      <td>-0.089</td>\n",
       "      <td>1.000</td>\n",
       "      <td>0.686</td>\n",
       "      <td>0.995</td>\n",
       "      <td>0.995</td>\n",
       "      <td>-0.040</td>\n",
       "    </tr>\n",
       "    <tr>\n",
       "      <td>average_submitted_chrg_amt</td>\n",
       "      <td>-0.069</td>\n",
       "      <td>-0.068</td>\n",
       "      <td>-0.101</td>\n",
       "      <td>0.686</td>\n",
       "      <td>1.000</td>\n",
       "      <td>0.688</td>\n",
       "      <td>0.683</td>\n",
       "      <td>-0.210</td>\n",
       "    </tr>\n",
       "    <tr>\n",
       "      <td>average_Medicare_payment_amt</td>\n",
       "      <td>-0.080</td>\n",
       "      <td>-0.062</td>\n",
       "      <td>-0.088</td>\n",
       "      <td>0.995</td>\n",
       "      <td>0.688</td>\n",
       "      <td>1.000</td>\n",
       "      <td>0.994</td>\n",
       "      <td>-0.051</td>\n",
       "    </tr>\n",
       "    <tr>\n",
       "      <td>average_Medicare_standard_amt</td>\n",
       "      <td>-0.079</td>\n",
       "      <td>-0.061</td>\n",
       "      <td>-0.085</td>\n",
       "      <td>0.995</td>\n",
       "      <td>0.683</td>\n",
       "      <td>0.994</td>\n",
       "      <td>1.000</td>\n",
       "      <td>-0.033</td>\n",
       "    </tr>\n",
       "    <tr>\n",
       "      <td>medicare_perc</td>\n",
       "      <td>0.077</td>\n",
       "      <td>-0.003</td>\n",
       "      <td>0.293</td>\n",
       "      <td>-0.040</td>\n",
       "      <td>-0.210</td>\n",
       "      <td>-0.051</td>\n",
       "      <td>-0.033</td>\n",
       "      <td>1.000</td>\n",
       "    </tr>\n",
       "  </tbody>\n",
       "</table>\n",
       "</div>"
      ],
      "text/plain": [
       "                               line_srvc_cnt  bene_unique_cnt  \\\n",
       "line_srvc_cnt                          1.000            0.293   \n",
       "bene_unique_cnt                        0.293            1.000   \n",
       "bene_day_srvc_cnt                      0.428            0.571   \n",
       "average_Medicare_allowed_amt          -0.084           -0.063   \n",
       "average_submitted_chrg_amt            -0.069           -0.068   \n",
       "average_Medicare_payment_amt          -0.080           -0.062   \n",
       "average_Medicare_standard_amt         -0.079           -0.061   \n",
       "medicare_perc                          0.077           -0.003   \n",
       "\n",
       "                               bene_day_srvc_cnt  \\\n",
       "line_srvc_cnt                              0.428   \n",
       "bene_unique_cnt                            0.571   \n",
       "bene_day_srvc_cnt                          1.000   \n",
       "average_Medicare_allowed_amt              -0.089   \n",
       "average_submitted_chrg_amt                -0.101   \n",
       "average_Medicare_payment_amt              -0.088   \n",
       "average_Medicare_standard_amt             -0.085   \n",
       "medicare_perc                              0.293   \n",
       "\n",
       "                               average_Medicare_allowed_amt  \\\n",
       "line_srvc_cnt                                        -0.084   \n",
       "bene_unique_cnt                                      -0.063   \n",
       "bene_day_srvc_cnt                                    -0.089   \n",
       "average_Medicare_allowed_amt                          1.000   \n",
       "average_submitted_chrg_amt                            0.686   \n",
       "average_Medicare_payment_amt                          0.995   \n",
       "average_Medicare_standard_amt                         0.995   \n",
       "medicare_perc                                        -0.040   \n",
       "\n",
       "                               average_submitted_chrg_amt  \\\n",
       "line_srvc_cnt                                      -0.069   \n",
       "bene_unique_cnt                                    -0.068   \n",
       "bene_day_srvc_cnt                                  -0.101   \n",
       "average_Medicare_allowed_amt                        0.686   \n",
       "average_submitted_chrg_amt                          1.000   \n",
       "average_Medicare_payment_amt                        0.688   \n",
       "average_Medicare_standard_amt                       0.683   \n",
       "medicare_perc                                      -0.210   \n",
       "\n",
       "                               average_Medicare_payment_amt  \\\n",
       "line_srvc_cnt                                        -0.080   \n",
       "bene_unique_cnt                                      -0.062   \n",
       "bene_day_srvc_cnt                                    -0.088   \n",
       "average_Medicare_allowed_amt                          0.995   \n",
       "average_submitted_chrg_amt                            0.688   \n",
       "average_Medicare_payment_amt                          1.000   \n",
       "average_Medicare_standard_amt                         0.994   \n",
       "medicare_perc                                        -0.051   \n",
       "\n",
       "                               average_Medicare_standard_amt  medicare_perc  \n",
       "line_srvc_cnt                                         -0.079          0.077  \n",
       "bene_unique_cnt                                       -0.061         -0.003  \n",
       "bene_day_srvc_cnt                                     -0.085          0.293  \n",
       "average_Medicare_allowed_amt                           0.995         -0.040  \n",
       "average_submitted_chrg_amt                             0.683         -0.210  \n",
       "average_Medicare_payment_amt                           0.994         -0.051  \n",
       "average_Medicare_standard_amt                          1.000         -0.033  \n",
       "medicare_perc                                         -0.033          1.000  "
      ]
     },
     "execution_count": 17,
     "metadata": {},
     "output_type": "execute_result"
    }
   ],
   "source": [
    "correlations = data[numerical].corr(method ='pearson')\n",
    "correlations"
   ]
  },
  {
   "cell_type": "code",
   "execution_count": 18,
   "metadata": {},
   "outputs": [
    {
     "data": {
      "image/png": "[encoded data removed]",
      "text/plain": [
       "<Figure size 864x432 with 2 Axes>"
      ]
     },
     "metadata": {
      "needs_background": "light"
     },
     "output_type": "display_data"
    }
   ],
   "source": [
    "# plot correlation matrix\n",
    "f, ax = plt.subplots(figsize=(12, 6))\n",
    "heatmap = sns.heatmap(correlations, mask=np.zeros_like(correlations, dtype=np.bool),\n",
    "            cmap=\"YlGnBu\",\n",
    "            square=True, ax=ax)\n",
    "f.savefig(\"img/heatmap_pearson.png\", bbox_inches=\"tight\")"
   ]
  },
  {
   "cell_type": "code",
   "execution_count": 19,
   "metadata": {},
   "outputs": [
    {
     "data": {
      "text/html": [
       "<div>\n",
       "<style scoped>\n",
       "    .dataframe tbody tr th:only-of-type {\n",
       "        vertical-align: middle;\n",
       "    }\n",
       "\n",
       "    .dataframe tbody tr th {\n",
       "        vertical-align: top;\n",
       "    }\n",
       "\n",
       "    .dataframe thead th {\n",
       "        text-align: right;\n",
       "    }\n",
       "</style>\n",
       "<table border=\"1\" class=\"dataframe\">\n",
       "  <thead>\n",
       "    <tr style=\"text-align: right;\">\n",
       "      <th></th>\n",
       "      <th>line_srvc_cnt</th>\n",
       "      <th>bene_unique_cnt</th>\n",
       "      <th>bene_day_srvc_cnt</th>\n",
       "      <th>average_Medicare_allowed_amt</th>\n",
       "      <th>average_submitted_chrg_amt</th>\n",
       "      <th>average_Medicare_payment_amt</th>\n",
       "      <th>average_Medicare_standard_amt</th>\n",
       "      <th>medicare_perc</th>\n",
       "    </tr>\n",
       "  </thead>\n",
       "  <tbody>\n",
       "    <tr>\n",
       "      <td>line_srvc_cnt</td>\n",
       "      <td>1.000</td>\n",
       "      <td>0.769</td>\n",
       "      <td>0.965</td>\n",
       "      <td>-0.200</td>\n",
       "      <td>-0.351</td>\n",
       "      <td>-0.196</td>\n",
       "      <td>-0.187</td>\n",
       "      <td>0.272</td>\n",
       "    </tr>\n",
       "    <tr>\n",
       "      <td>bene_unique_cnt</td>\n",
       "      <td>0.769</td>\n",
       "      <td>1.000</td>\n",
       "      <td>0.804</td>\n",
       "      <td>-0.087</td>\n",
       "      <td>-0.111</td>\n",
       "      <td>-0.089</td>\n",
       "      <td>-0.083</td>\n",
       "      <td>0.070</td>\n",
       "    </tr>\n",
       "    <tr>\n",
       "      <td>bene_day_srvc_cnt</td>\n",
       "      <td>0.965</td>\n",
       "      <td>0.804</td>\n",
       "      <td>1.000</td>\n",
       "      <td>-0.143</td>\n",
       "      <td>-0.305</td>\n",
       "      <td>-0.141</td>\n",
       "      <td>-0.131</td>\n",
       "      <td>0.309</td>\n",
       "    </tr>\n",
       "    <tr>\n",
       "      <td>average_Medicare_allowed_amt</td>\n",
       "      <td>-0.200</td>\n",
       "      <td>-0.087</td>\n",
       "      <td>-0.143</td>\n",
       "      <td>1.000</td>\n",
       "      <td>0.767</td>\n",
       "      <td>0.988</td>\n",
       "      <td>0.988</td>\n",
       "      <td>0.212</td>\n",
       "    </tr>\n",
       "    <tr>\n",
       "      <td>average_submitted_chrg_amt</td>\n",
       "      <td>-0.351</td>\n",
       "      <td>-0.111</td>\n",
       "      <td>-0.305</td>\n",
       "      <td>0.767</td>\n",
       "      <td>1.000</td>\n",
       "      <td>0.780</td>\n",
       "      <td>0.763</td>\n",
       "      <td>-0.377</td>\n",
       "    </tr>\n",
       "    <tr>\n",
       "      <td>average_Medicare_payment_amt</td>\n",
       "      <td>-0.196</td>\n",
       "      <td>-0.089</td>\n",
       "      <td>-0.141</td>\n",
       "      <td>0.988</td>\n",
       "      <td>0.780</td>\n",
       "      <td>1.000</td>\n",
       "      <td>0.994</td>\n",
       "      <td>0.201</td>\n",
       "    </tr>\n",
       "    <tr>\n",
       "      <td>average_Medicare_standard_amt</td>\n",
       "      <td>-0.187</td>\n",
       "      <td>-0.083</td>\n",
       "      <td>-0.131</td>\n",
       "      <td>0.988</td>\n",
       "      <td>0.763</td>\n",
       "      <td>0.994</td>\n",
       "      <td>1.000</td>\n",
       "      <td>0.224</td>\n",
       "    </tr>\n",
       "    <tr>\n",
       "      <td>medicare_perc</td>\n",
       "      <td>0.272</td>\n",
       "      <td>0.070</td>\n",
       "      <td>0.309</td>\n",
       "      <td>0.212</td>\n",
       "      <td>-0.377</td>\n",
       "      <td>0.201</td>\n",
       "      <td>0.224</td>\n",
       "      <td>1.000</td>\n",
       "    </tr>\n",
       "  </tbody>\n",
       "</table>\n",
       "</div>"
      ],
      "text/plain": [
       "                               line_srvc_cnt  bene_unique_cnt  \\\n",
       "line_srvc_cnt                          1.000            0.769   \n",
       "bene_unique_cnt                        0.769            1.000   \n",
       "bene_day_srvc_cnt                      0.965            0.804   \n",
       "average_Medicare_allowed_amt          -0.200           -0.087   \n",
       "average_submitted_chrg_amt            -0.351           -0.111   \n",
       "average_Medicare_payment_amt          -0.196           -0.089   \n",
       "average_Medicare_standard_amt         -0.187           -0.083   \n",
       "medicare_perc                          0.272            0.070   \n",
       "\n",
       "                               bene_day_srvc_cnt  \\\n",
       "line_srvc_cnt                              0.965   \n",
       "bene_unique_cnt                            0.804   \n",
       "bene_day_srvc_cnt                          1.000   \n",
       "average_Medicare_allowed_amt              -0.143   \n",
       "average_submitted_chrg_amt                -0.305   \n",
       "average_Medicare_payment_amt              -0.141   \n",
       "average_Medicare_standard_amt             -0.131   \n",
       "medicare_perc                              0.309   \n",
       "\n",
       "                               average_Medicare_allowed_amt  \\\n",
       "line_srvc_cnt                                        -0.200   \n",
       "bene_unique_cnt                                      -0.087   \n",
       "bene_day_srvc_cnt                                    -0.143   \n",
       "average_Medicare_allowed_amt                          1.000   \n",
       "average_submitted_chrg_amt                            0.767   \n",
       "average_Medicare_payment_amt                          0.988   \n",
       "average_Medicare_standard_amt                         0.988   \n",
       "medicare_perc                                         0.212   \n",
       "\n",
       "                               average_submitted_chrg_amt  \\\n",
       "line_srvc_cnt                                      -0.351   \n",
       "bene_unique_cnt                                    -0.111   \n",
       "bene_day_srvc_cnt                                  -0.305   \n",
       "average_Medicare_allowed_amt                        0.767   \n",
       "average_submitted_chrg_amt                          1.000   \n",
       "average_Medicare_payment_amt                        0.780   \n",
       "average_Medicare_standard_amt                       0.763   \n",
       "medicare_perc                                      -0.377   \n",
       "\n",
       "                               average_Medicare_payment_amt  \\\n",
       "line_srvc_cnt                                        -0.196   \n",
       "bene_unique_cnt                                      -0.089   \n",
       "bene_day_srvc_cnt                                    -0.141   \n",
       "average_Medicare_allowed_amt                          0.988   \n",
       "average_submitted_chrg_amt                            0.780   \n",
       "average_Medicare_payment_amt                          1.000   \n",
       "average_Medicare_standard_amt                         0.994   \n",
       "medicare_perc                                         0.201   \n",
       "\n",
       "                               average_Medicare_standard_amt  medicare_perc  \n",
       "line_srvc_cnt                                         -0.187          0.272  \n",
       "bene_unique_cnt                                       -0.083          0.070  \n",
       "bene_day_srvc_cnt                                     -0.131          0.309  \n",
       "average_Medicare_allowed_amt                           0.988          0.212  \n",
       "average_submitted_chrg_amt                             0.763         -0.377  \n",
       "average_Medicare_payment_amt                           0.994          0.201  \n",
       "average_Medicare_standard_amt                          1.000          0.224  \n",
       "medicare_perc                                          0.224          1.000  "
      ]
     },
     "execution_count": 19,
     "metadata": {},
     "output_type": "execute_result"
    }
   ],
   "source": [
    "data[numerical].corr(method ='spearman')"
   ]
  },
  {
   "cell_type": "markdown",
   "metadata": {},
   "source": [
    "### <u> (4) Transfomring each numerical column</u>"
   ]
  },
  {
   "cell_type": "code",
   "execution_count": 20,
   "metadata": {},
   "outputs": [
    {
     "data": {
      "image/png": "[encoded data removed]",
      "text/plain": [
       "<Figure size 1440x864 with 8 Axes>"
      ]
     },
     "metadata": {
      "needs_background": "light"
     },
     "output_type": "display_data"
    }
   ],
   "source": [
    "plt.rcParams['figure.figsize'] = [20, 12]\n",
    "for pos, val in enumerate(numerical): \n",
    "    plt.subplot(3, 3, pos+1)\n",
    "    data[val].hist()\n",
    "    plt.title(val)\n",
    "plt.savefig('img/distribution_before_transformation.png')\n",
    "plt.show()"
   ]
  },
  {
   "cell_type": "code",
   "execution_count": 21,
   "metadata": {},
   "outputs": [
    {
     "name": "stdout",
     "output_type": "stream",
     "text": [
      "line_srvc_cnt's lambda: -0.403\n",
      "bene_unique_cnt's lambda: -0.627\n",
      "bene_day_srvc_cnt's lambda: -0.410\n",
      "average_Medicare_allowed_amt's lambda: 0.177\n",
      "average_submitted_chrg_amt's lambda: -0.065\n",
      "average_Medicare_payment_amt's lambda: 0.152\n",
      "average_Medicare_standard_amt's lambda: 0.155\n",
      "medicare_perc's lambda: 0.160\n"
     ]
    },
    {
     "data": {
      "image/png": "[encoded data removed]",
      "text/plain": [
       "<Figure size 1440x864 with 8 Axes>"
      ]
     },
     "metadata": {
      "needs_background": "light"
     },
     "output_type": "display_data"
    },
    {
     "data": {
      "text/html": [
       "<div>\n",
       "<style scoped>\n",
       "    .dataframe tbody tr th:only-of-type {\n",
       "        vertical-align: middle;\n",
       "    }\n",
       "\n",
       "    .dataframe tbody tr th {\n",
       "        vertical-align: top;\n",
       "    }\n",
       "\n",
       "    .dataframe thead th {\n",
       "        text-align: right;\n",
       "    }\n",
       "</style>\n",
       "<table border=\"1\" class=\"dataframe\">\n",
       "  <thead>\n",
       "    <tr style=\"text-align: right;\">\n",
       "      <th></th>\n",
       "      <th>line_srvc_cnt</th>\n",
       "      <th>bene_unique_cnt</th>\n",
       "      <th>bene_day_srvc_cnt</th>\n",
       "      <th>average_Medicare_allowed_amt</th>\n",
       "      <th>average_submitted_chrg_amt</th>\n",
       "      <th>average_Medicare_payment_amt</th>\n",
       "      <th>average_Medicare_standard_amt</th>\n",
       "      <th>medicare_perc</th>\n",
       "    </tr>\n",
       "  </thead>\n",
       "  <tbody>\n",
       "    <tr>\n",
       "      <td>count</td>\n",
       "      <td>20955.000</td>\n",
       "      <td>20955.000</td>\n",
       "      <td>20955.000</td>\n",
       "      <td>20955.000</td>\n",
       "      <td>20955.000</td>\n",
       "      <td>20955.000</td>\n",
       "      <td>20955.000</td>\n",
       "      <td>20955.000</td>\n",
       "    </tr>\n",
       "    <tr>\n",
       "      <td>mean</td>\n",
       "      <td>1.898</td>\n",
       "      <td>1.372</td>\n",
       "      <td>1.865</td>\n",
       "      <td>5.172</td>\n",
       "      <td>4.456</td>\n",
       "      <td>4.342</td>\n",
       "      <td>4.438</td>\n",
       "      <td>-1.721</td>\n",
       "    </tr>\n",
       "    <tr>\n",
       "      <td>std</td>\n",
       "      <td>0.224</td>\n",
       "      <td>0.086</td>\n",
       "      <td>0.211</td>\n",
       "      <td>2.442</td>\n",
       "      <td>1.001</td>\n",
       "      <td>2.128</td>\n",
       "      <td>2.162</td>\n",
       "      <td>0.654</td>\n",
       "    </tr>\n",
       "    <tr>\n",
       "      <td>min</td>\n",
       "      <td>1.538</td>\n",
       "      <td>1.240</td>\n",
       "      <td>1.527</td>\n",
       "      <td>-2.800</td>\n",
       "      <td>-0.706</td>\n",
       "      <td>-2.956</td>\n",
       "      <td>-2.944</td>\n",
       "      <td>-4.100</td>\n",
       "    </tr>\n",
       "    <tr>\n",
       "      <td>25%</td>\n",
       "      <td>1.708</td>\n",
       "      <td>1.302</td>\n",
       "      <td>1.676</td>\n",
       "      <td>3.607</td>\n",
       "      <td>3.779</td>\n",
       "      <td>2.889</td>\n",
       "      <td>2.975</td>\n",
       "      <td>-2.184</td>\n",
       "    </tr>\n",
       "    <tr>\n",
       "      <td>50%</td>\n",
       "      <td>1.883</td>\n",
       "      <td>1.371</td>\n",
       "      <td>1.850</td>\n",
       "      <td>5.288</td>\n",
       "      <td>4.446</td>\n",
       "      <td>4.421</td>\n",
       "      <td>4.528</td>\n",
       "      <td>-1.739</td>\n",
       "    </tr>\n",
       "    <tr>\n",
       "      <td>75%</td>\n",
       "      <td>2.083</td>\n",
       "      <td>1.441</td>\n",
       "      <td>2.041</td>\n",
       "      <td>6.802</td>\n",
       "      <td>5.002</td>\n",
       "      <td>5.707</td>\n",
       "      <td>5.818</td>\n",
       "      <td>-1.282</td>\n",
       "    </tr>\n",
       "    <tr>\n",
       "      <td>max</td>\n",
       "      <td>2.432</td>\n",
       "      <td>1.579</td>\n",
       "      <td>2.344</td>\n",
       "      <td>16.787</td>\n",
       "      <td>7.561</td>\n",
       "      <td>14.170</td>\n",
       "      <td>14.440</td>\n",
       "      <td>0.798</td>\n",
       "    </tr>\n",
       "  </tbody>\n",
       "</table>\n",
       "</div>"
      ],
      "text/plain": [
       "       line_srvc_cnt  bene_unique_cnt  bene_day_srvc_cnt  \\\n",
       "count      20955.000        20955.000          20955.000   \n",
       "mean           1.898            1.372              1.865   \n",
       "std            0.224            0.086              0.211   \n",
       "min            1.538            1.240              1.527   \n",
       "25%            1.708            1.302              1.676   \n",
       "50%            1.883            1.371              1.850   \n",
       "75%            2.083            1.441              2.041   \n",
       "max            2.432            1.579              2.344   \n",
       "\n",
       "       average_Medicare_allowed_amt  average_submitted_chrg_amt  \\\n",
       "count                     20955.000                   20955.000   \n",
       "mean                          5.172                       4.456   \n",
       "std                           2.442                       1.001   \n",
       "min                          -2.800                      -0.706   \n",
       "25%                           3.607                       3.779   \n",
       "50%                           5.288                       4.446   \n",
       "75%                           6.802                       5.002   \n",
       "max                          16.787                       7.561   \n",
       "\n",
       "       average_Medicare_payment_amt  average_Medicare_standard_amt  \\\n",
       "count                     20955.000                      20955.000   \n",
       "mean                          4.342                          4.438   \n",
       "std                           2.128                          2.162   \n",
       "min                          -2.956                         -2.944   \n",
       "25%                           2.889                          2.975   \n",
       "50%                           4.421                          4.528   \n",
       "75%                           5.707                          5.818   \n",
       "max                          14.170                         14.440   \n",
       "\n",
       "       medicare_perc  \n",
       "count      20955.000  \n",
       "mean          -1.721  \n",
       "std            0.654  \n",
       "min           -4.100  \n",
       "25%           -2.184  \n",
       "50%           -1.739  \n",
       "75%           -1.282  \n",
       "max            0.798  "
      ]
     },
     "execution_count": 21,
     "metadata": {},
     "output_type": "execute_result"
    }
   ],
   "source": [
    "data_new = copy.deepcopy(data)\n",
    "plt.rcParams['figure.figsize'] = [20, 12]\n",
    "for pos, val in enumerate(numerical): \n",
    "    plt.subplot(3, 3, pos+1)\n",
    "    data_new[val],lmbda = boxcox(data_new[val]+0.001, lmbda = None)\n",
    "    print(val+ \"\\'s lambda: %0.3f\" % lmbda)\n",
    "    data_new[val].hist()\n",
    "    plt.title(val)\n",
    "plt.savefig('img/distribution_after_transformation.png')\n",
    "plt.show()\n",
    "\n",
    "data_new[numerical].describe()"
   ]
  },
  {
   "cell_type": "markdown",
   "metadata": {},
   "source": [
    "# Clustering (K-means)"
   ]
  },
  {
   "cell_type": "markdown",
   "metadata": {},
   "source": [
    "### <u> 1. Selecting columns for clustering & one-hot encoding</u> "
   ]
  },
  {
   "cell_type": "code",
   "execution_count": null,
   "metadata": {},
   "outputs": [],
   "source": [
    "selected_categorical = ['nppes_provider_gender','nppes_entity_code', \n",
    "       'medicare_participation_indicator', 'place_of_service','hcpcs_drug_indicator']\n",
    "selected_numerical = [\"bene_day_srvc_cnt\", \"bene_unique_cnt\", \"average_Medicare_allowed_amt\"]\n",
    "features = data_new[selected_categorical + selected_numerical]\n",
    "for i in selected_categorical:\n",
    "    dummies = pd.get_dummies(features[i], prefix = i)\n",
    "    features = pd.concat([features, dummies], axis = 1)\n",
    "    del features[i]\n",
    "features.head()"
   ]
  },
  {
   "cell_type": "code",
   "execution_count": null,
   "metadata": {},
   "outputs": [],
   "source": [
    "features.describe()"
   ]
  },
  {
   "cell_type": "markdown",
   "metadata": {},
   "source": [
    "### <u> 2. Normalizing every column</u> "
   ]
  },
  {
   "cell_type": "code",
   "execution_count": null,
   "metadata": {},
   "outputs": [],
   "source": [
    "scaler = StandardScaler()\n",
    "dfNorm = scaler.fit_transform(features)\n",
    "dfNorm = pd.DataFrame(dfNorm)\n",
    "dfNorm.describe()"
   ]
  },
  {
   "cell_type": "markdown",
   "metadata": {},
   "source": [
    "### <u> 3. Finding appropriate K</u> "
   ]
  },
  {
   "cell_type": "code",
   "execution_count": null,
   "metadata": {},
   "outputs": [],
   "source": [
    "inertia = []\n",
    "silh = []\n",
    "K = range(2,20)\n",
    "for k in K:\n",
    "    kmeans = KMeans(n_clusters = k, random_state = 1).fit(dfNorm)\n",
    "    inertia.append(kmeans.inertia_)\n",
    "    silhouette_avg = silhouette_score(dfNorm, kmeans.labels_)\n",
    "    silh.append(silhouette_avg)"
   ]
  },
  {
   "cell_type": "code",
   "execution_count": null,
   "metadata": {},
   "outputs": [],
   "source": [
    "plt.rcParams['figure.figsize'] = [10, 6]\n",
    "plt.plot(K, inertia, 'bo-')\n",
    "plt.xlabel('k')\n",
    "plt.ylabel('Inertia')\n",
    "plt.title('Scree plot')\n",
    "plt.savefig('img/scree_plot.png')\n",
    "plt.show()"
   ]
  },
  {
   "cell_type": "code",
   "execution_count": null,
   "metadata": {},
   "outputs": [],
   "source": [
    "plt.rcParams['figure.figsize'] = [10, 6]\n",
    "plt.plot(K, silh, 'bo-')\n",
    "plt.xlabel('k')\n",
    "plt.ylabel('Silhouette score')\n",
    "plt.title('Silhouette score')\n",
    "plt.savefig('img/silhoutte_score.png')\n",
    "plt.show()"
   ]
  },
  {
   "cell_type": "markdown",
   "metadata": {},
   "source": [
    "### <u> 4. Clustering with chosen K</u> "
   ]
  },
  {
   "cell_type": "code",
   "execution_count": null,
   "metadata": {},
   "outputs": [],
   "source": [
    "selected = 6\n",
    "kmeans = KMeans(n_clusters = selected, random_state = 1).fit(dfNorm)\n",
    "k_means_labels = kmeans.labels_\n",
    "for i in range(selected):\n",
    "    print(i+1)\n",
    "    print(list(k_means_labels).count(i))\n",
    "    print(\"====\")"
   ]
  },
  {
   "cell_type": "code",
   "execution_count": null,
   "metadata": {},
   "outputs": [],
   "source": [
    "data[\"Cluster\"] = k_means_labels+1"
   ]
  },
  {
   "cell_type": "code",
   "execution_count": null,
   "metadata": {},
   "outputs": [],
   "source": [
    "data.to_csv(\"data/clustered_data.csv\")"
   ]
  },
  {
   "cell_type": "markdown",
   "metadata": {},
   "source": [
    "Cluster analysis is done through Tableau. Check \"cluster analysis.twb\" or \"cluster analysis.pptx\" inside the same folder."
   ]
  },
  {
   "cell_type": "code",
   "execution_count": null,
   "metadata": {},
   "outputs": [],
   "source": []
  }
 ],
 "metadata": {
  "kernelspec": {
   "display_name": "Python 3",
   "language": "python",
   "name": "python3"
  },
  "language_info": {
   "codemirror_mode": {
    "name": "ipython",
    "version": 3
   },
   "file_extension": ".py",
   "mimetype": "text/x-python",
   "name": "python",
   "nbconvert_exporter": "python",
   "pygments_lexer": "ipython3",
   "version": "3.7.4"
  }
 },
 "nbformat": 4,
 "nbformat_minor": 2
}
